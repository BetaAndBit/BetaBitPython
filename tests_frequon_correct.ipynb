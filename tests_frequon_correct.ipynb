{
 "cells": [
  {
   "cell_type": "code",
   "execution_count": 1,
   "metadata": {
    "collapsed": false
   },
   "outputs": [
    {
     "name": "stdout",
     "output_type": "stream",
     "text": [
      "\n",
      " _____     _                    _    _____ _ _      _____\n",
      "| __  |___| |_ ___    ___ ___ _| |  | __  |_| |_   |   __|___ _____ ___ ___\n",
      "| __ -| -_|  _| .'|  | .'|   | . |  | __ -| |  _|  |  |  | .'|     | -_|_ -|\n",
      "|_____|___|_| |__,|  |__,|_|_|___|  |_____|_|_|    |_____|__,|_|_|_|___|___|\n",
      "\n",
      "Choose your game. Just type the name of the selected game in the console.\n",
      "It's a function so do not forget about parentheses!\n",
      "\n",
      "1. proton()\n",
      "2. frequon()\n"
     ]
    }
   ],
   "source": [
    "import betabit as bb"
   ]
  },
  {
   "cell_type": "code",
   "execution_count": 2,
   "metadata": {
    "collapsed": false,
    "scrolled": true
   },
   "outputs": [
    {
     "name": "stdout",
     "output_type": "stream",
     "text": [
      "You've Got Mail\n",
      "\n",
      "From: 154eb7278fc44650bdd2bb39bb2b5c69@mail.tor\n",
      "To: c81632dce28ca740f2f2503656f3d62a@mail.tor\n",
      "Subject: Interested?\n",
      "\n",
      "Hi,\n",
      "We are looking for a smart guy with extraordinary hacking skills.\n",
      "Our mutual friend assured us that you are our man.\n",
      "\n",
      "TL;DR: We are observing a group of terrorists that are planning something.\n",
      "We have intercepted some data, but do not know how to read it (attached).\n",
      "\n",
      "There is a password somewhere. We have to find it to stop terrorists.\n",
      "Would you like to join our team? Help us and we will help you in the future.\n",
      "\n",
      "It's not clear how to start. Our informer told us that the key is somehow\n",
      "related with three key phrases: 'guns', 'and', 'roses'.\n",
      "Probably these are the names of some messages / datasets.\n",
      "Would you like to check if you have access to any of them?\n",
      "\n",
      "If you want to help, please type:\n",
      "'frequon(subject = \"Re: Interested?\", content = \"Text of the message that you have access to\")'\n",
      "so as we could read the message too.\n",
      "\n",
      "Remember: any time you want, you can get some piece of advice, just\n",
      "type: 'frequon(hint = True)'.\n"
     ]
    }
   ],
   "source": [
    "bb.frequon()"
   ]
  },
  {
   "cell_type": "code",
   "execution_count": 3,
   "metadata": {
    "collapsed": false
   },
   "outputs": [
    {
     "name": "stdout",
     "output_type": "stream",
     "text": [
      "We were looking so long for somebody like you who could\n",
      "help us solve this mistery. If you don't have access to the\n",
      "messages, than we wiil have to ask someone else. :(\n"
     ]
    }
   ],
   "source": [
    "bb.frequon(subject = \"Re: Interested?\", content = \"Text of the message that you have access to\")"
   ]
  },
  {
   "cell_type": "code",
   "execution_count": 4,
   "metadata": {
    "collapsed": false
   },
   "outputs": [
    {
     "name": "stdout",
     "output_type": "stream",
     "text": [
      "You've Got Mail\n",
      "\n",
      "From: 154eb7278fc44650bdd2bb39bb2b5c69@mail.tor\n",
      "To: c81632dce28ca740f2f2503656f3d62a@mail.tor\n",
      "Subject: Frequencies\n",
      "\n",
      "We are so glad you want to help us!\n",
      "\n",
      "Thank you for the message, it looks interesting... However, this text\n",
      "is too long to be the password that we are seeking for. This must be some coded\n",
      "message. If only we could know the key...\n",
      "\n",
      "But let's take a look.\n",
      "The 'p' letter appears very often.\n",
      "And 'i' doesn`t. In english language letter 'e' occures\n",
      "the most often. If we knew how often each letter is used in\n",
      "the message, we could compare them with well-known English\n",
      "letter frequencies! So let's do this!\n",
      "\n",
      "Take the message that you have found, remove everything that is not a letter\n",
      "and calculate frequencies of letters.\n",
      "The result should be a dictionary with keys corresponding to letters and values\n",
      "corresponding to number of occuraces.\n",
      "\n",
      "Send us a reply: 'frequon(subject = \"Re: Frequencies\", content = \"freq\")' as soon as you\n",
      "finish. 'freq' is the dictionary of frequencies for each letter.\n",
      "Please, remember to set dictionary's keys with appropriate letters!\n"
     ]
    }
   ],
   "source": [
    "bb.frequon(subject = \"Re: Interested?\", content = bb.roses)"
   ]
  },
  {
   "cell_type": "code",
   "execution_count": 5,
   "metadata": {
    "collapsed": false
   },
   "outputs": [
    {
     "name": "stdout",
     "output_type": "stream",
     "text": [
      "The content that you passed is not a dictionary. Please, pass dictionary.\n"
     ]
    }
   ],
   "source": [
    "bb.frequon(subject = \"Re: Frequencies\", content = \"freq\")"
   ]
  },
  {
   "cell_type": "code",
   "execution_count": 6,
   "metadata": {
    "collapsed": false,
    "scrolled": false
   },
   "outputs": [
    {
     "name": "stdout",
     "output_type": "stream",
     "text": [
      "Firstly, try to answer the following questions:\n",
      "  * Does Python treat 'A' and 'a' as the same letter?\n",
      "  * Is 'word' and 'word,' the same word for Python?\n",
      "\n",
      "The functions like: 'lower()/upper()', 'sub()' from 're' regular expression operations package might be useful to handle these issues. Consider replacing all non-alphanumeric characters with empty strings ().\n",
      "The easiest way to deal with this kind of problem is to use regex. String: '[^a-z ]' allows you to extract all non-letter charaters with spaces.\n",
      "\n",
      "Finally familiarize yourself with 'list()' and 'value_counts()' from 'pandas' package to count all of the letters easily.\n",
      "The 'ascii_lowercase' from 'string' package may also be very helpful for the problem.\n",
      "\n",
      "To see which letters occur the most frequently use 'sort_values()' from 'pandas' package.\n",
      "\n",
      "To create quickly a dictioniary try 'zip()' function.\n"
     ]
    }
   ],
   "source": [
    "bb.frequon(hint = True)"
   ]
  },
  {
   "cell_type": "code",
   "execution_count": 7,
   "metadata": {
    "collapsed": false
   },
   "outputs": [
    {
     "data": {
      "text/plain": [
       "p    254\n",
       "e    223\n",
       "s    200\n",
       "z    153\n",
       "l    152\n",
       "y    124\n",
       "c    124\n",
       "d    124\n",
       "t    115\n",
       "w     90\n",
       "o     75\n",
       "q     54\n",
       "f     45\n",
       "x     37\n",
       "h     34\n",
       "a     34\n",
       "r     28\n",
       "n     27\n",
       "j     26\n",
       "m     25\n",
       "g     18\n",
       "v     15\n",
       "i      1\n",
       "b      1\n",
       "dtype: int64"
      ]
     },
     "execution_count": 7,
     "metadata": {},
     "output_type": "execute_result"
    }
   ],
   "source": [
    "import re\n",
    "import pandas as pd\n",
    "import numpy as np\n",
    "from string import ascii_lowercase\n",
    "letters = list(re.sub('[^a-z]', '', bb.roses.lower()))\n",
    "letters = pd.value_counts(letters)\n",
    "letters"
   ]
  },
  {
   "cell_type": "code",
   "execution_count": 8,
   "metadata": {
    "collapsed": false
   },
   "outputs": [
    {
     "name": "stdout",
     "output_type": "stream",
     "text": [
      "k\n",
      "u\n"
     ]
    }
   ],
   "source": [
    "ascii_letters = list(ascii_lowercase)\n",
    "dictionary = dict(zip(letters.index.values, letters))\n",
    "keys = dictionary.keys()\n",
    "empty = np.where([x not in list(keys) for x in ascii_letters])[0]\n",
    "for each in empty:\n",
    "    print(ascii_letters[each])"
   ]
  },
  {
   "cell_type": "code",
   "execution_count": 9,
   "metadata": {
    "collapsed": false
   },
   "outputs": [
    {
     "data": {
      "text/plain": [
       "{'a': 34,\n",
       " 'b': 1,\n",
       " 'c': 124,\n",
       " 'd': 124,\n",
       " 'e': 223,\n",
       " 'f': 45,\n",
       " 'g': 18,\n",
       " 'h': 34,\n",
       " 'i': 1,\n",
       " 'j': 26,\n",
       " 'k': 0,\n",
       " 'l': 152,\n",
       " 'm': 25,\n",
       " 'n': 27,\n",
       " 'o': 75,\n",
       " 'p': 254,\n",
       " 'q': 54,\n",
       " 'r': 28,\n",
       " 's': 200,\n",
       " 't': 115,\n",
       " 'u': 0,\n",
       " 'v': 15,\n",
       " 'w': 90,\n",
       " 'x': 37,\n",
       " 'y': 124,\n",
       " 'z': 153}"
      ]
     },
     "execution_count": 9,
     "metadata": {},
     "output_type": "execute_result"
    }
   ],
   "source": [
    "dictionary[\"k\"] = 0\n",
    "dictionary[\"u\"] = 0\n",
    "dictionary"
   ]
  },
  {
   "cell_type": "code",
   "execution_count": 10,
   "metadata": {
    "collapsed": false
   },
   "outputs": [
    {
     "name": "stdout",
     "output_type": "stream",
     "text": [
      "Nice try, but there is one or more missing values (nan) in the given dictionary.\n",
      "Replace all the nans and then try to pass the dictioniary again.\n"
     ]
    }
   ],
   "source": [
    "dictionaryErr = dictionary.copy()\n",
    "dictionaryErr[\"a\"] = np.nan\n",
    "bb.frequon(subject = \"Re: Frequencies\", content = dictionaryErr)"
   ]
  },
  {
   "cell_type": "code",
   "execution_count": 11,
   "metadata": {
    "collapsed": false
   },
   "outputs": [
    {
     "name": "stdout",
     "output_type": "stream",
     "text": [
      "You did not pass frequencies for all of the letters. :(\n"
     ]
    }
   ],
   "source": [
    "dictionaryErr.pop(\"a\")\n",
    "bb.frequon(subject = \"Re: Frequencies\", content = dictionaryErr)"
   ]
  },
  {
   "cell_type": "code",
   "execution_count": 12,
   "metadata": {
    "collapsed": false
   },
   "outputs": [
    {
     "name": "stdout",
     "output_type": "stream",
     "text": [
      "There is something wrong with the given frequencies...\n",
      "Have you converted the text to lowercase?\n",
      "Are you sure you did this properly?\n",
      "Some letters do not occur in the message (like 'k'), but make sure that frequency for them is 0 in the dictionary.\n"
     ]
    }
   ],
   "source": [
    "dictionaryErr[\"a\"] = 0\n",
    "bb.frequon(subject = \"Re: Frequencies\", content = dictionaryErr)"
   ]
  },
  {
   "cell_type": "code",
   "execution_count": 13,
   "metadata": {
    "collapsed": false
   },
   "outputs": [
    {
     "name": "stdout",
     "output_type": "stream",
     "text": [
      "You've Got Mail\n",
      "\n",
      "From: 154eb7278fc44650bdd2bb39bb2b5c69@mail.tor\n",
      "To: c81632dce28ca740f2f2503656f3d62a@mail.tor\n",
      "Subject: Transcription\n",
      "\n",
      "Great job! Now, when we do know which letters are used the most often\n",
      "and which are the least common, we can combine them with well-known\n",
      "english frequencies of letters. We have prepared and attached\n",
      "the 'EnglishLetterFrequency' dataset. It contains\n",
      "frequencies of letters in the English language.\n",
      "\n",
      "Now you can substitute old ciphered letters with the new\n",
      "English letters.\n",
      "Such operation is called character translation / transliteration.\n",
      "Can you pass the transliterated message to us?\n",
      "\n",
      "Send us reply: 'frequon(subject = \"Re: Transcription\", content = \"text_you_will_get\")'.\n",
      "We wish you luck!\n",
      "\n",
      "Best regards!\n"
     ]
    }
   ],
   "source": [
    "bb.frequon(subject = \"Re: Frequencies\", content = dictionary)"
   ]
  },
  {
   "cell_type": "code",
   "execution_count": 14,
   "metadata": {
    "collapsed": false
   },
   "outputs": [
    {
     "name": "stdout",
     "output_type": "stream",
     "text": [
      "This translation seems not to fit to the 'roses'.\n",
      "Did you sort 'freq' array correctly before translation?\n"
     ]
    }
   ],
   "source": [
    "bb.frequon(subject = \"Re: Transcription\", content = \"text_you_will_get\")"
   ]
  },
  {
   "cell_type": "code",
   "execution_count": 15,
   "metadata": {
    "collapsed": false
   },
   "outputs": [
    {
     "name": "stdout",
     "output_type": "stream",
     "text": [
      "Manual subsitution may by pretty demanding. This is why you may appreciate a 'translate()' function from 'string' package. :)\n",
      "Remember to convert all letters to lowercases.\n",
      "\n"
     ]
    }
   ],
   "source": [
    "bb.frequon(hint = True)"
   ]
  },
  {
   "cell_type": "code",
   "execution_count": 16,
   "metadata": {
    "collapsed": false
   },
   "outputs": [
    {
     "name": "stdout",
     "output_type": "stream",
     "text": [
      "i gool nime rs hitaeh to be yaosen tain gheit hryaes, inl dovrng civouh hitaeh tain srdveh inl godl. tae hrya inl fooh meet togetaeh: tae dohl rs tae mikeh oc taem idd. i fhulent min coheseeta tae evrd, inl arleta armsedc: but tae srmfde fiss on, inl ihe funrsael. bp aumrdrtp inl tae ceih oc tae dohl ihe hryaes, inl aonouh, inl drce. taohns inl snihes ihe rn tae wip oc tae chowihl: ae tait lota keef ars soud saidd be cih chom taem. thirn uf i yardl rn tae wip ae saoudl go: inl waen ae rs odl, ae wrdd not lefiht chom rt. tae hrya hudeta oveh tae fooh, inl tae bohhoweh rs sehvint to tae denleh. ae tait soweta rnrxurtp saidd heif vinrtp: inl tae hol oc ars ingeh saidd cird. ae tait aita i bountrcud epe saidd be bdessel; coh ae grveta oc ars bheil to tae fooh. yist out tae syohneh, inl yontentron saidd go out; pei, sthrce inl hefhoiya saidd yeise. ae tait doveta fuheness oc aeiht, coh tae ghiye oc ars drfs tae krng saidd be ars chrenl. tae epes oc tae dohl fhesehve knowdelge, inl ae ovehtahoweta tae wohls oc tae thinsghessoh. tae sdotacud min sirta, taehe rs i dron wrtaout, r saidd be sdirn rn tae stheets. tae mouta oc sthinge women rs i leef frt: ae tait rs ibaohhel oc tae dohl saidd cidd taehern. coodrsaness rs bounl rn tae aeiht oc i yardl; but tae hol oc yohheytron saidd lhrve rt cih chom arm. ae tait offhesseta tae fooh to rnyheise ars hryaes, inl ae tait grveta to tae hrya, saidd suhedp yome to wint. bow lown tarne eih, inl aeih tae wohls oc tae wrse, inl iffdp tarne aeiht unto mp knowdelge. coh rt rs i fdeisint tarng rc taou keef taem wrtarn taee; taep saidd wrtaid be crttel rn tap drfs. tait tap thust mip be rn tae dohl, r aive mile known to taee tars lip, even to taee. aive not r whrtten to taee ejyeddent tarngs rn younseds inl knowdelge, tait r mrgat mike taee know tae yehtirntp oc tae wohls oc thuta; tait taou mrgatest insweh tae wohls oc thuta to taem tait senl unto taee? hob not tae fooh, beyiuse ae rs fooh: nertaeh offhess tae iccdrytel rn tae gite: coh tae dohl wrdd fdeil taerh yiuse, inl sford tae soud oc taose tait sfordel taem. mike no chrenlsarf wrta in inghp min; inl wrta i cuhrous min taou saidt not go: dest taou deihn ars wips, inl get i snihe to tap soud. be not taou one oc taem tait sthrke ainls, oh oc taem tait ihe suhetres coh lebts. rc taou aist notarng to fip, wap saoudl ae tike iwip tap bel chom unleh taee? hemove not tae inyrent dinlmihk, warya tap citaehs aive set. seest taou i min lrdrgent rn ars busrness? ae saidd stinl becohe krngs; ae saidd not stinl becohe mein men.\n"
     ]
    }
   ],
   "source": [
    "frequencies = pd.Series(dictionary)\n",
    "frequencies = pd.DataFrame(frequencies)\n",
    "frequencies[\"index\"] = frequencies.index\n",
    "frequencies = frequencies.sort_values([0, \"index\"])\n",
    "frequenciesSorted = list(frequencies.index)\n",
    "dictionaryTranscription = dict(zip([ord(x) for x in frequenciesSorted], bb.englishLetterFrequency.columns))\n",
    "rosesLower = bb.roses.lower()\n",
    "rosesTranscription = rosesLower.translate(dictionaryTranscription)\n",
    "print(rosesTranscription)"
   ]
  },
  {
   "cell_type": "code",
   "execution_count": 17,
   "metadata": {
    "collapsed": false
   },
   "outputs": [
    {
     "name": "stdout",
     "output_type": "stream",
     "text": [
      "This translation seems not to fit to the 'roses'.\n",
      "Did you sort 'freq' array correctly before translation?\n"
     ]
    }
   ],
   "source": [
    "transcriptionERR = rosesTranscription + \"ERR\"\n",
    "bb.frequon(subject = \"Re: Transcription\", content = transcriptionERR)"
   ]
  },
  {
   "cell_type": "code",
   "execution_count": 18,
   "metadata": {
    "collapsed": false
   },
   "outputs": [
    {
     "name": "stdout",
     "output_type": "stream",
     "text": [
      "Manual subsitution may by pretty demanding. This is why you may appreciate a 'translate()' function from 'string' package. :)\n",
      "Remember to convert all letters to lowercases.\n",
      "\n"
     ]
    }
   ],
   "source": [
    "bb.frequon(hint = True)"
   ]
  },
  {
   "cell_type": "code",
   "execution_count": 19,
   "metadata": {
    "collapsed": false,
    "scrolled": true
   },
   "outputs": [
    {
     "name": "stdout",
     "output_type": "stream",
     "text": [
      "You've Got Mail\n",
      "\n",
      "From: 154eb7278fc44650bdd2bb39bb2b5c69@mail.tor\n",
      "To: c81632dce28ca740f2f2503656f3d62a@mail.tor\n",
      "Subject: Key\n",
      "\n",
      "Well done! We are so close now! Our message looks a little bit familiar.\n",
      "There are even some words that we can recognize.\n",
      "But there are still some words that are looking strange.\n",
      "It means that our key is not completely correct and we need to\n",
      "correct these letters that were mistranslated.\n",
      "\n",
      "Let's use the word frequency to correct the transliteration.\n",
      "\n",
      "Let's count all the words.\n",
      "Those which appear the most often are for us easy to amend.\n",
      "The ones which appear the least often are perhaps easily recognisable nouns?\n",
      "\n",
      "Take advantage of 'top100commonWords'.\n",
      "Find the right transliteration in order to decode it into the proper English.\n",
      "Work with lowercased text.\n",
      "\n",
      "Type:\n",
      "'frequon(subject = \"Re: Key\", content = {\"old\": \"abcdef...z\", \"new\": \"newlettersrespectively\"})',\n",
      "where 'old' are the letters in the code's sense and 'new' are fitted real letters.\n",
      "\n",
      "Good luck!\n"
     ]
    }
   ],
   "source": [
    "bb.frequon(subject = \"Re: Transcription\", content = rosesTranscription)"
   ]
  },
  {
   "cell_type": "code",
   "execution_count": 20,
   "metadata": {
    "collapsed": false
   },
   "outputs": [
    {
     "name": "stdout",
     "output_type": "stream",
     "text": [
      "We don't understand the 'key' value in the given form. Type again the key you found in the following form: {\"old\": \"oldlettersabcd...z\", \"new\": \"newlettersrespectively\"}.\n"
     ]
    }
   ],
   "source": [
    "bb.frequon(subject = \"Re: Key\", content = {\"old\": \"abcdef...z\", \"notNew\": \"newlettersrespectively\"})"
   ]
  },
  {
   "cell_type": "code",
   "execution_count": 21,
   "metadata": {
    "collapsed": false
   },
   "outputs": [
    {
     "name": "stdout",
     "output_type": "stream",
     "text": [
      "Don't you think that both lengths of 'old' and 'new' should be equal to 26?\n",
      "This is the number of all letters in the Latin alphabet.\n",
      "\n",
      "Please, correct this mistake and try again.\n"
     ]
    }
   ],
   "source": [
    "bb.frequon(subject = \"Re: Key\", content = {\"old\": \"abcdef...z\", \"new\": \"newlettersrespectively\"})"
   ]
  },
  {
   "cell_type": "code",
   "execution_count": 22,
   "metadata": {
    "collapsed": false
   },
   "outputs": [
    {
     "name": "stdout",
     "output_type": "stream",
     "text": [
      "Nice try. However, this key does not translate the message correctly.\n",
      "Are you sure that everything is all right?\n"
     ]
    }
   ],
   "source": [
    "dictioniaryERR = {\"old\": \"lmnopqrstuvwxyzabcdefghijz\", \"new\": ascii_lowercase}\n",
    "bb.frequon(subject = \"Re: Key\", content = dictioniaryERR)"
   ]
  },
  {
   "cell_type": "code",
   "execution_count": 23,
   "metadata": {
    "collapsed": false
   },
   "outputs": [
    {
     "name": "stdout",
     "output_type": "stream",
     "text": [
      "\n"
     ]
    }
   ],
   "source": [
    "bb.frequon(hint = True)"
   ]
  },
  {
   "cell_type": "code",
   "execution_count": 24,
   "metadata": {
    "collapsed": false
   },
   "outputs": [
    {
     "name": "stdout",
     "output_type": "stream",
     "text": [
      "You've Got Mail\n",
      "\n",
      "From: 154eb7278fc44650bdd2bb39bb2b5c69@mail.tor\n",
      "To: c81632dce28ca740f2f2503656f3d62a@mail.tor\n",
      "Subject: Next text\n",
      "\n",
      "Excellent work, you have cracked the code!\n",
      "\n",
      "However, there is no password in here.\n",
      "There must be some clue in this message...\n",
      "\n",
      "Perhaps our friend used the key\n",
      "to cipher the names of the two remaining messages?\n",
      "Can you have access to them now?\n",
      "\n",
      "Transliterate these names: 'guns', 'and', 'roses' and check if there are datasets with these new names.\n",
      "\n",
      "Please, send us reply:\n",
      "'frequon(subject = \"Re: Next text\", content = \"Content of the unlocked message\")'.\n",
      "\n",
      "We would be grateful.\n"
     ]
    }
   ],
   "source": [
    "dictionary = {\"old\": \"lmnopqrstuvwxyzabcdefghijk\", \"new\": ascii_lowercase}\n",
    "bb.frequon(subject = \"Re: Key\", content = dictionary)"
   ]
  },
  {
   "cell_type": "code",
   "execution_count": 25,
   "metadata": {
    "collapsed": false
   },
   "outputs": [
    {
     "name": "stdout",
     "output_type": "stream",
     "text": [
      "We can not open the message. Try again. Maybe you sent a bad file?\n"
     ]
    }
   ],
   "source": [
    "bb.frequon(subject = \"Re: Next text\", content = \"Content of the unlocked message\")"
   ]
  },
  {
   "cell_type": "code",
   "execution_count": 26,
   "metadata": {
    "collapsed": false
   },
   "outputs": [
    {
     "data": {
      "text/plain": [
       "['vjch', 'pcs', 'gdhth']"
      ]
     },
     "execution_count": 26,
     "metadata": {},
     "output_type": "execute_result"
    }
   ],
   "source": [
    "dictionaryTranscription = dict(zip([ord(x) for x in list(\"lmnopqrstuvwxyzabcdefghijk\")], list(ascii_lowercase)))\n",
    "words = [\"guns\", \"and\", \"roses\"]\n",
    "wordsTranscription = [x.translate(dictionaryTranscription) for x in words]\n",
    "wordsTranscription"
   ]
  },
  {
   "cell_type": "code",
   "execution_count": 27,
   "metadata": {
    "collapsed": false
   },
   "outputs": [
    {
     "name": "stdout",
     "output_type": "stream",
     "text": [
      "Check the mail's subject. Something is wrong there!\n"
     ]
    }
   ],
   "source": [
    "bb.frequon(subject = \"Re: Next and\", content = \"vjch\")"
   ]
  },
  {
   "cell_type": "code",
   "execution_count": 28,
   "metadata": {
    "collapsed": false
   },
   "outputs": [
    {
     "name": "stdout",
     "output_type": "stream",
     "text": [
      "Check the mail's subject. Something is wrong there!\n"
     ]
    }
   ],
   "source": [
    "bb.frequon(subject = \"Re: Next guns\", content = \"vjch\")"
   ]
  },
  {
   "cell_type": "code",
   "execution_count": 29,
   "metadata": {
    "collapsed": false
   },
   "outputs": [
    {
     "name": "stdout",
     "output_type": "stream",
     "text": [
      "We can not open the message. Try again. Maybe you sent a bad file?\n"
     ]
    }
   ],
   "source": [
    "bb.frequon(subject = \"Re: Next text\", content = \"vjch\")"
   ]
  },
  {
   "cell_type": "code",
   "execution_count": 30,
   "metadata": {
    "collapsed": false
   },
   "outputs": [
    {
     "name": "stdout",
     "output_type": "stream",
     "text": [
      "All you need to do is split the whole text by spaces and table all created words. Do you remember how 'split()' function works?\n",
      "\n",
      "If you do this, try to put old letters in alphabetical order.\n"
     ]
    }
   ],
   "source": [
    "bb.frequon(hint = True)"
   ]
  },
  {
   "cell_type": "code",
   "execution_count": 31,
   "metadata": {
    "collapsed": false,
    "scrolled": false
   },
   "outputs": [
    {
     "name": "stdout",
     "output_type": "stream",
     "text": [
      "You've Got Mail\n",
      "\n",
      "From: 154eb7278fc44650bdd2bb39bb2b5c69@mail.tor\n",
      "To: c81632dce28ca740f2f2503656f3d62a@mail.tor\n",
      "Subject: Lengths in the text\n",
      "\n",
      "This message is written in a language that we cannot don`t know.\n",
      "\n",
      "Can you recognize the language?\n",
      "\n",
      "We know a simple idea how to recognize the language of any\n",
      "message. All you need to do is to measure the length of each word. If we knew\n",
      "how many words had the lengths of 1, 2, 3, and so on, we could compare\n",
      "them with the lengths of the words in languages that we know!\n",
      "\n",
      "Naturally, we need a huge amount of words in many languages.\n",
      "Fortunately we have a sample from wikipedia resources, so we can share it with you.\n",
      "Please, find the 'wikiquotes' attached.\n",
      "\n",
      "There is a list of quotes in many languages.\n",
      "We hope this will be enough for our needs.\n",
      "\n",
      "Note that different languages are using different letters, thus to find words use the space ' ' as a separator.\n",
      "\n",
      "This is a time-consuming job to measure the length of each word for all of the languages, but we believe that you know some fast way to cope with this problem.\n",
      "\n",
      "Send us your results:\n",
      "'frequon(subject = \"Re: Lengths in the text\", content = \"lengths\", attachment = \"wiki_lengths\")'.\n",
      "'lengths' is the dictionary of counts of words of given length (keys - lengths and values - counts).\n",
      "'wiki_lengths' is the dictionary with dictionaries of counts for each language.\n",
      "Please, remember to name this dictionary with appropriate languages!\n"
     ]
    }
   ],
   "source": [
    "bb.frequon(subject = \"Re: Next text\", content = bb.lyo)"
   ]
  },
  {
   "cell_type": "code",
   "execution_count": 32,
   "metadata": {
    "collapsed": false
   },
   "outputs": [
    {
     "name": "stdout",
     "output_type": "stream",
     "text": [
      "You've Got Mail\n",
      "\n",
      "From: 154eb7278fc44650bdd2bb39bb2b5c69@mail.tor\n",
      "To: c81632dce28ca740f2f2503656f3d62a@mail.tor\n",
      "Subject: Lengths in the text\n",
      "\n",
      "This message is written in a language that we cannot don`t know.\n",
      "\n",
      "Can you recognize the language?\n",
      "\n",
      "We know a simple idea how to recognize the language of any\n",
      "message. All you need to do is to measure the length of each word. If we knew\n",
      "how many words had the lengths of 1, 2, 3, and so on, we could compare\n",
      "them with the lengths of the words in languages that we know!\n",
      "\n",
      "Naturally, we need a huge amount of words in many languages.\n",
      "Fortunately we have a sample from wikipedia resources, so we can share it with you.\n",
      "Please, find the 'wikiquotes' attached.\n",
      "\n",
      "There is a list of quotes in many languages.\n",
      "We hope this will be enough for our needs.\n",
      "\n",
      "Note that different languages are using different letters, thus to find words use the space ' ' as a separator.\n",
      "\n",
      "This is a time-consuming job to measure the length of each word for all of the languages, but we believe that you know some fast way to cope with this problem.\n",
      "\n",
      "Send us your results:\n",
      "'frequon(subject = \"Re: Lengths in the text\", content = \"lengths\", attachment = \"wiki_lengths\")'.\n",
      "'lengths' is the dictionary of counts of words of given length (keys - lengths and values - counts).\n",
      "'wiki_lengths' is the dictionary with dictionaries of counts for each language.\n",
      "Please, remember to name this dictionary with appropriate languages!\n"
     ]
    }
   ],
   "source": [
    "bb.frequon(subject = \"Re: Next text\", content = bb.pcs)"
   ]
  },
  {
   "cell_type": "code",
   "execution_count": 33,
   "metadata": {
    "collapsed": false,
    "scrolled": true
   },
   "outputs": [
    {
     "name": "stdout",
     "output_type": "stream",
     "text": [
      "It seems that you might have forgotten to attach files. Please, send this message with the attachement.\n"
     ]
    }
   ],
   "source": [
    "bb.frequon(subject = \"Re: Lengths in the text\", content = \"lengths\")"
   ]
  },
  {
   "cell_type": "code",
   "execution_count": 34,
   "metadata": {
    "collapsed": false
   },
   "outputs": [
    {
     "name": "stdout",
     "output_type": "stream",
     "text": [
      "The content or the attachment that you passed is not a dictionaries. Please, pass dictionary.\n"
     ]
    }
   ],
   "source": [
    "bb.frequon(subject = \"Re: Lengths in the text\", content = \"lengths\", attachment = \"wiki_lengths\")"
   ]
  },
  {
   "cell_type": "code",
   "execution_count": 35,
   "metadata": {
    "collapsed": false
   },
   "outputs": [
    {
     "name": "stdout",
     "output_type": "stream",
     "text": [
      "The content or the attachment that you passed is not a dictionaries. Please, pass dictionary.\n"
     ]
    }
   ],
   "source": [
    "bb.frequon(subject = \"Re: Lengths in the text\", content = \"lengths\", attachment = dictionaryErr)"
   ]
  },
  {
   "cell_type": "code",
   "execution_count": 36,
   "metadata": {
    "collapsed": false
   },
   "outputs": [
    {
     "name": "stdout",
     "output_type": "stream",
     "text": [
      "Names of attachment are incorrect. Please, send us 'lengths' with names according to 'wikiquotes' names.\n"
     ]
    }
   ],
   "source": [
    "bb.frequon(subject = \"Re: Lengths in the text\", content = dictionaryErr, attachment = dictionaryErr)"
   ]
  },
  {
   "cell_type": "code",
   "execution_count": 37,
   "metadata": {
    "collapsed": false,
    "scrolled": true
   },
   "outputs": [
    {
     "name": "stdout",
     "output_type": "stream",
     "text": [
      "Remember that if we have 'old' as ciphered letters and 'new' as real ones, we need to find real letters in 'new' and seek for their translation in the 'old' character string.\n"
     ]
    }
   ],
   "source": [
    "bb.frequon(hint = True)"
   ]
  },
  {
   "cell_type": "code",
   "execution_count": 38,
   "metadata": {
    "collapsed": false
   },
   "outputs": [
    {
     "data": {
      "text/plain": [
       "{0: 1,\n",
       " 1: 6,\n",
       " 2: 141,\n",
       " 3: 40,\n",
       " 4: 60,\n",
       " 5: 57,\n",
       " 6: 42,\n",
       " 7: 36,\n",
       " 8: 23,\n",
       " 9: 16,\n",
       " 10: 9,\n",
       " 11: 4,\n",
       " 12: 3,\n",
       " 14: 1}"
      ]
     },
     "execution_count": 38,
     "metadata": {},
     "output_type": "execute_result"
    }
   ],
   "source": [
    "import re\n",
    "pcsLower = bb.pcs.lower()\n",
    "dictionaryTranscription = dict(zip([ord(x) for x in list(\"lmnopqrstuvwxyzabcdefghijk\")], list(ascii_lowercase)))\n",
    "transcription = pcsLower.translate(dictionaryTranscription)\n",
    "text = re.sub(\"[.,;!:]\", \"\", transcription)\n",
    "words = text.split(\" \")\n",
    "lengths = [len(x) for x in words]\n",
    "valueCounts = pd.value_counts(lengths)\n",
    "lengths = dict(zip(valueCounts.index, valueCounts.values))\n",
    "lengths"
   ]
  },
  {
   "cell_type": "code",
   "execution_count": 39,
   "metadata": {
    "collapsed": true
   },
   "outputs": [],
   "source": [
    "dictionary = {}\n",
    "columns = bb.wikiquotes.columns\n",
    "for each in columns:\n",
    "    text = re.sub(\"[.,;!:]\", \"\", list(bb.wikiquotes[each])[0])\n",
    "    words = text.split(\" \")\n",
    "    lengthsWiki = [len(x) for x in words]\n",
    "    valueCounts = pd.value_counts(lengthsWiki)\n",
    "    dictionary[each] = dict(zip(valueCounts.index, valueCounts.values))"
   ]
  },
  {
   "cell_type": "code",
   "execution_count": 40,
   "metadata": {
    "collapsed": false
   },
   "outputs": [
    {
     "name": "stdout",
     "output_type": "stream",
     "text": [
      "There is something wrong with the way you count the lengths of the words in the message. Please, try again. It should be a dictionary with number of words with given length.\n"
     ]
    }
   ],
   "source": [
    "lengthsErr = lengths.copy()\n",
    "lengthsErr[7] = 100\n",
    "bb.frequon(subject = \"Re: Lengths in the text\", content = lengthsErr, attachment = dictionary)"
   ]
  },
  {
   "cell_type": "code",
   "execution_count": 41,
   "metadata": {
    "collapsed": false
   },
   "outputs": [
    {
     "name": "stdout",
     "output_type": "stream",
     "text": [
      "Lengths of words in message are ok, but something is wrong with the way you count the lengths of the words in 'wikiqoutes' file. The result should be a dictionary with names of languages and dictionaries of frequencies. Please, try again.\n"
     ]
    }
   ],
   "source": [
    "dictionaryErr = {}\n",
    "columns = bb.wikiquotes.columns\n",
    "for each in columns:\n",
    "    text = re.sub(\"[^\\w\\s]\", \"\", list(bb.wikiquotes[each])[0])\n",
    "    words = text.split(\" \")\n",
    "    lengthsWiki = [len(x) for x in words]\n",
    "    valueCounts = pd.value_counts(lengthsWiki)\n",
    "    dictionaryErr[each] = dict(zip(valueCounts.index, valueCounts.values))\n",
    "dictionaryErr[\"Czech\"][4] = 100\n",
    "\n",
    "bb.frequon(subject = \"Re: Lengths in the text\", content = lengths, attachment = dictionaryErr)"
   ]
  },
  {
   "cell_type": "code",
   "execution_count": 42,
   "metadata": {
    "collapsed": false
   },
   "outputs": [
    {
     "name": "stdout",
     "output_type": "stream",
     "text": [
      "You've Got Mail\n",
      "\n",
      "From: 154eb7278fc44650bdd2bb39bb2b5c69@mail.tor\n",
      "To: c81632dce28ca740f2f2503656f3d62a@mail.tor\n",
      "Subject: Language in the message\n",
      "\n",
      "Well done!\n",
      "\n",
      "Now we need to compare frequencies for our message and frequencies for other languages.\n",
      "Try to plot barplots for each language and then a barplot for out message.\n",
      "It will be easier to compare these frequencies graphically.\n",
      "\n",
      "Now we can investigate what language was used to prepare the second message.\n",
      "What do you think?\n",
      "Which distribution is the most similar to the distribution of the lengths in our message?\n",
      "\n",
      "Send us your thoughts! Type:\n",
      "'frequon(subject = \"Re: Language in and message\", content = \"Language\")'\n",
      "where 'Language' is the name of the correct language.\n"
     ]
    }
   ],
   "source": [
    "bb.frequon(subject = \"Re: Lengths in the text\", content = lengths, attachment = dictionary)"
   ]
  },
  {
   "cell_type": "code",
   "execution_count": 43,
   "metadata": {
    "collapsed": false
   },
   "outputs": [
    {
     "name": "stdout",
     "output_type": "stream",
     "text": [
      "We don't think that this is the right answer. The language you suggested doesn't fit our message.\n"
     ]
    }
   ],
   "source": [
    "bb.frequon(subject = \"Re: Language in and message\", content = \"language\")"
   ]
  },
  {
   "cell_type": "code",
   "execution_count": 44,
   "metadata": {
    "collapsed": false
   },
   "outputs": [
    {
     "name": "stdout",
     "output_type": "stream",
     "text": [
      "We don't think that this is the right answer. The language you suggested doesn't fit our message.\n"
     ]
    }
   ],
   "source": [
    "bb.frequon(subject = \"Re: Language in and message\", content = \"polish\")"
   ]
  },
  {
   "cell_type": "code",
   "execution_count": 45,
   "metadata": {
    "collapsed": false
   },
   "outputs": [
    {
     "name": "stdout",
     "output_type": "stream",
     "text": [
      "There is a very useful function in Python to measure number of characters in words. Take advantage of 'len()' function. Remember to split the string into single words with 'split()' as you probably did before. To check the length of each word correctly pay attention to all commas and dots! Is the length of \"dots.\" and \"dots\" the same? 'sub()' function from 're' package with '[.,;!:]' regex may be helpful here (only if you convert your text to lowercase!).\n",
      "\n",
      "Do the same thing with all of the elements of the 'wikiquotes' DataFrame. You may use 'for' loop to do this easier and faster!\n"
     ]
    }
   ],
   "source": [
    "bb.frequon(hint = True)"
   ]
  },
  {
   "cell_type": "code",
   "execution_count": 46,
   "metadata": {
    "collapsed": false
   },
   "outputs": [
    {
     "name": "stdout",
     "output_type": "stream",
     "text": [
      "We don't think that this is the right answer. The language you suggested doesn't fit our message.\n"
     ]
    }
   ],
   "source": [
    "bb.frequon(subject = \"Re: Language in and message\", content = \"lithuanian\")"
   ]
  },
  {
   "cell_type": "code",
   "execution_count": 47,
   "metadata": {
    "collapsed": false
   },
   "outputs": [
    {
     "name": "stdout",
     "output_type": "stream",
     "text": [
      "You've Got Mail\n",
      "\n",
      "From: 154eb7278fc44650bdd2bb39bb2b5c69@mail.tor\n",
      "To: c81632dce28ca740f2f2503656f3d62a@mail.tor\n",
      "Subject: Password\n",
      "\n",
      "We think so too. Great job! Now we have the key, we know the language ...\n",
      "Perhaps before we start translating this message, we will try to get an access\n",
      "to the phrase 'guns'. We know that our friend likes to use the key\n",
      "from one puzzle in order to encode the name of the other one. So maybe also this time ...\n",
      "Do you know what is the Romanian counterpart of the word 'guns'?\n",
      "\n",
      "We are responsible for translating the message. If you find something interesting\n",
      "in the third of our messages, let us know, please!\n",
      "\n",
      "Type:\n",
      "'frequon(subject = \"Re: Password\", content = \"thePasswordYouWillFind\")'.\n"
     ]
    }
   ],
   "source": [
    "bb.frequon(subject = \"Re: Language in and message\", content = \"romanian\")"
   ]
  },
  {
   "cell_type": "code",
   "execution_count": 48,
   "metadata": {
    "collapsed": false
   },
   "outputs": [
    {
     "name": "stdout",
     "output_type": "stream",
     "text": [
      "We are afraid this is not the password that we are looking for. Are you sure there is nothing else to see?\n"
     ]
    }
   ],
   "source": [
    "bb.frequon(subject = \"Re: Password\", content = \"password\")"
   ]
  },
  {
   "cell_type": "code",
   "execution_count": 49,
   "metadata": {
    "collapsed": false
   },
   "outputs": [
    {
     "name": "stdout",
     "output_type": "stream",
     "text": [
      "Compare distributions using 'bar()' function from 'matplotlib' package for counted lengths of words in the message and counted lengths of words in all languages.\n"
     ]
    }
   ],
   "source": [
    "bb.frequon(hint = True)"
   ]
  },
  {
   "cell_type": "code",
   "execution_count": 50,
   "metadata": {
    "collapsed": false
   },
   "outputs": [
    {
     "name": "stdout",
     "output_type": "stream",
     "text": [
      "y4S27e5Rsmx4Sne4kNjBywUQPrX1FUGl\n",
      "You've Got Mail\n",
      "\n",
      "From: 154eb7278fc44650bdd2bb39bb2b5c69@mail.tor\n",
      "To: c81632dce28ca740f2f2503656f3d62a@mail.tor\n",
      "Subject: You are the best!\n"
     ]
    }
   ],
   "source": [
    "print(bb.pistoale)\n",
    "bb.frequon(subject = \"Re: Password\", content = \"y4S27e5Rsmx4Sne4kNjBywUQPrX1FUGl\")"
   ]
  }
 ],
 "metadata": {
  "kernelspec": {
   "display_name": "Python 3",
   "language": "python",
   "name": "python3"
  },
  "language_info": {
   "codemirror_mode": {
    "name": "ipython",
    "version": 3
   },
   "file_extension": ".py",
   "mimetype": "text/x-python",
   "name": "python",
   "nbconvert_exporter": "python",
   "pygments_lexer": "ipython3",
   "version": "3.5.1"
  }
 },
 "nbformat": 4,
 "nbformat_minor": 0
}
