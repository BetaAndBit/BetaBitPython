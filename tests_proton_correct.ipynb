{
 "cells": [
  {
   "cell_type": "code",
   "execution_count": 1,
   "metadata": {
    "collapsed": false
   },
   "outputs": [
    {
     "name": "stdout",
     "output_type": "stream",
     "text": [
      "\n",
      " _____     _                    _    _____ _ _      _____\n",
      "| __  |___| |_ ___    ___ ___ _| |  | __  |_| |_   |   __|___ _____ ___ ___\n",
      "| __ -| -_|  _| .'|  | .'|   | . |  | __ -| |  _|  |  |  | .'|     | -_|_ -|\n",
      "|_____|___|_| |__,|  |__,|_|_|___|  |_____|_|_|    |_____|__,|_|_|_|___|___|\n",
      "\n",
      "Choose your game. Just type the name of the selected game in the console.\n",
      "It's a function so do not forget about parentheses!\n",
      "\n",
      "1. proton()\n",
      "2. frequon()\n"
     ]
    }
   ],
   "source": [
    "import betabit as BB"
   ]
  },
  {
   "cell_type": "code",
   "execution_count": 2,
   "metadata": {
    "collapsed": false
   },
   "outputs": [
    {
     "name": "stdout",
     "output_type": "stream",
     "text": [
      " _____ _         _____         _             _____\n",
      "|_   _| |_ ___  |  _  |___ ___| |_ ___ ___  |   __|___ _____ ___\n",
      "  | | |   | -_| |   __|  _| . |  _| . |   | |  |  | .'|     | -_|\n",
      "  |_| |_|_|___| |__|  |_| |___|_| |___|_|_| |_____|__,|_|_|_|___|\n",
      "\n",
      "Your goal is to find Slawomir Pietraszko's credentials for the Proton server.\n",
      "This is the only way for Bit to find the secret plans of Pietraszko's laboratory.\n",
      "\n",
      "Remember that at any time you may add `hint = True` argument to the executed command in order to get additional suggestions.\n",
      "\n",
      "Pietraszko uses a password which is very difficult to guess.\n",
      "At first, try to hack an account of a person which is not as cautious as Pietraszko.\n",
      "\n",
      "But who is the weakest point? Initial investigation suggests that John Insecure doesn't care about security and has an account on the Proton server. He may use a password which is easy to crack.\n",
      "Let's attack his account first!\n",
      "\n",
      "Problem 1: Find the login of John Insecure.\n",
      "\n",
      "Bit has scrapped 'employees' data (names and logins) from the www web page of Technical University of Warsaw. The data is in the pandas DataFrame `employees`. \n",
      "Now, your task is to find John Insecure's login.\n",
      "When you finally find out what John's login is, use `proton(action = \"login\", login=\"XYZ\")` command, where XYZ is Insecure's login.\n",
      "\n"
     ]
    }
   ],
   "source": [
    "BB.proton()"
   ]
  },
  {
   "cell_type": "code",
   "execution_count": 3,
   "metadata": {
    "collapsed": false
   },
   "outputs": [
    {
     "name": "stdout",
     "output_type": "stream",
     "text": [
      " _____ _         _____         _             _____\n",
      "|_   _| |_ ___  |  _  |___ ___| |_ ___ ___  |   __|___ _____ ___\n",
      "  | | |   | -_| |   __|  _| . |  _| . |   | |  |  | .'|     | -_|\n",
      "  |_| |_|_|___| |__|  |_| |___|_| |___|_|_| |_____|__,|_|_|_|___|\n",
      "\n",
      "Your goal is to find Slawomir Pietraszko's credentials for the Proton server.\n",
      "This is the only way for Bit to find the secret plans of Pietraszko's laboratory.\n",
      "\n",
      "Remember that at any time you may add `hint = True` argument to the executed command in order to get additional suggestions.\n",
      "\n",
      "Pietraszko uses a password which is very difficult to guess.\n",
      "At first, try to hack an account of a person which is not as cautious as Pietraszko.\n",
      "\n",
      "But who is the weakest point? Initial investigation suggests that John Insecure doesn't care about security and has an account on the Proton server. He may use a password which is easy to crack.\n",
      "Let's attack his account first!\n",
      "\n",
      "Problem 1: Find the login of John Insecure.\n",
      "\n",
      "Bit has scrapped 'employees' data (names and logins) from the www web page of Technical University of Warsaw. The data is in the pandas DataFrame `employees`. \n",
      "Now, your task is to find John Insecure's login.\n",
      "When you finally find out what John's login is, use `proton(action = \"login\", login=\"XYZ\")` command, where XYZ is Insecure's login.\n",
      "\n",
      "\n",
      "HINT:\n",
      "In `employees` dataset try to find a row which has `Insecure` value in the `surname` column.\n",
      "\n"
     ]
    }
   ],
   "source": [
    "BB.proton(hint = True)"
   ]
  },
  {
   "cell_type": "code",
   "execution_count": 4,
   "metadata": {
    "collapsed": false
   },
   "outputs": [
    {
     "data": {
      "text/html": [
       "<div>\n",
       "<table border=\"1\" class=\"dataframe\">\n",
       "  <thead>\n",
       "    <tr style=\"text-align: right;\">\n",
       "      <th></th>\n",
       "      <th>name</th>\n",
       "      <th>surname</th>\n",
       "      <th>login</th>\n",
       "    </tr>\n",
       "  </thead>\n",
       "  <tbody>\n",
       "    <tr>\n",
       "      <th>1</th>\n",
       "      <td>Jorge</td>\n",
       "      <td>Patrick</td>\n",
       "      <td>j.patrick</td>\n",
       "    </tr>\n",
       "    <tr>\n",
       "      <th>2</th>\n",
       "      <td>Gerald</td>\n",
       "      <td>Long</td>\n",
       "      <td>gerald.long</td>\n",
       "    </tr>\n",
       "    <tr>\n",
       "      <th>3</th>\n",
       "      <td>Javier</td>\n",
       "      <td>Mendoza</td>\n",
       "      <td>j.mendoza</td>\n",
       "    </tr>\n",
       "    <tr>\n",
       "      <th>4</th>\n",
       "      <td>Roy</td>\n",
       "      <td>Johnston</td>\n",
       "      <td>rjoh</td>\n",
       "    </tr>\n",
       "    <tr>\n",
       "      <th>5</th>\n",
       "      <td>Annie</td>\n",
       "      <td>Keith</td>\n",
       "      <td>annie.keith</td>\n",
       "    </tr>\n",
       "  </tbody>\n",
       "</table>\n",
       "</div>"
      ],
      "text/plain": [
       "     name   surname        login\n",
       "1   Jorge   Patrick    j.patrick\n",
       "2  Gerald      Long  gerald.long\n",
       "3  Javier   Mendoza    j.mendoza\n",
       "4     Roy  Johnston         rjoh\n",
       "5   Annie     Keith  annie.keith"
      ]
     },
     "execution_count": 4,
     "metadata": {},
     "output_type": "execute_result"
    }
   ],
   "source": [
    "BB.employees.head()"
   ]
  },
  {
   "cell_type": "code",
   "execution_count": 5,
   "metadata": {
    "collapsed": false
   },
   "outputs": [
    {
     "name": "stdout",
     "output_type": "stream",
     "text": [
      "The database with employees of Faculty of Electronics and Information Technology of Warsaw University of Technology.\n",
      "   \n",
      "The pandas DataFrame describing names, surnames and faculty employees' logins.\n",
      "Note that it is an artificial dataset that imitates real database.\n",
      "The subsequent columns in this pandas DataFrame describe:\n",
      "   - name - The name of an employee.\n",
      "   - surname - The surname of an employee.\n",
      "   - login - The login of an employee on the Proton server.\n"
     ]
    }
   ],
   "source": [
    "BB.employees_description()"
   ]
  },
  {
   "cell_type": "code",
   "execution_count": 6,
   "metadata": {
    "collapsed": false
   },
   "outputs": [
    {
     "name": "stdout",
     "output_type": "stream",
     "text": [
      "Nice try, but there is nothing interesting about this login.\n",
      "The weakest link of Proton server is John Insecure.\n",
      "Try to find his login.\n",
      "\n"
     ]
    }
   ],
   "source": [
    "BB.proton(action = \"login\", login = \"XYZ\")"
   ]
  },
  {
   "cell_type": "code",
   "execution_count": 7,
   "metadata": {
    "collapsed": false
   },
   "outputs": [
    {
     "name": "stdout",
     "output_type": "stream",
     "text": [
      "\n",
      "If action = 'login' argument is set then one should also set 'login = .' argument.\n",
      "\n"
     ]
    }
   ],
   "source": [
    "BB.proton(action = \"login\")"
   ]
  },
  {
   "cell_type": "code",
   "execution_count": 8,
   "metadata": {
    "collapsed": false,
    "scrolled": true
   },
   "outputs": [
    {
     "name": "stdout",
     "output_type": "stream",
     "text": [
      "Congratulations! You have found out what John Insecure's login is!\n",
      "It is highly likely that he uses some typical password.\n",
      "Bit downloaded from the Internet a database with 1000 most commonly used passwords.\n",
      "You can find this database in the `top1000passwords` numpy array.\n",
      "\n",
      "Problem 2: Find John Insecure's password.\n",
      "\n",
      "Use `proton(action = \"login\", login = XYZ\", password = \"ABC\")` command in order to log into the Proton server with the given credentials.\n",
      "If the password is correct, you will get the following message:\n",
      "`Success! User is logged in!`.\n",
      "Otherwise you will get:\n",
      "`Password or login is incorrect!`.\n",
      "\n"
     ]
    }
   ],
   "source": [
    "BB.proton(action = \"login\", login = \"johnins\")"
   ]
  },
  {
   "cell_type": "code",
   "execution_count": 9,
   "metadata": {
    "collapsed": false
   },
   "outputs": [
    {
     "name": "stdout",
     "output_type": "stream",
     "text": [
      "Congratulations! You have found out what John Insecure's login is!\n",
      "It is highly likely that he uses some typical password.\n",
      "Bit downloaded from the Internet a database with 1000 most commonly used passwords.\n",
      "You can find this database in the `top1000passwords` numpy array.\n",
      "\n",
      "Problem 2: Find John Insecure's password.\n",
      "\n",
      "Use `proton(action = \"login\", login = XYZ\", password = \"ABC\")` command in order to log into the Proton server with the given credentials.\n",
      "If the password is correct, you will get the following message:\n",
      "`Success! User is logged in!`.\n",
      "Otherwise you will get:\n",
      "`Password or login is incorrect!`.\n",
      "\n",
      "\n",
      "HINT:\n",
      "Use the brute force method.\n",
      "By using a loop, try to log in with subsequent passwords from `top1000passwords` numpy array as long as you receive:\n",
      "`Success! User is logged in!`.\n",
      "\n"
     ]
    }
   ],
   "source": [
    "BB.proton(action = \"login\", login = \"johnins\", hint = True)"
   ]
  },
  {
   "cell_type": "code",
   "execution_count": 10,
   "metadata": {
    "collapsed": false,
    "scrolled": true
   },
   "outputs": [
    {
     "data": {
      "text/plain": [
       "array(['123456', 'password', '12345678', 'qwerty', '123456789', '12345',\n",
       "       '1234', '111111', '1234567', 'dragon', '123123', 'baseball',\n",
       "       'abc123', 'football', 'monkey', 'letmein', '696969', 'shadow',\n",
       "       'master', '666666', 'qwertyuiop', '123321', 'mustang', '1234567890',\n",
       "       'michael', '654321', 'pussy', 'superman', '1qaz2wsx', '7777777',\n",
       "       'fuckyou', '121212', '000000', 'qazwsx', '123qwe', 'killer',\n",
       "       'trustno1', 'jordan', 'jennifer', 'zxcvbnm', 'asdfgh', 'hunter',\n",
       "       'buster', 'soccer', 'harley', 'batman', 'andrew', 'tigger',\n",
       "       'sunshine', 'iloveyou', 'fuckme', '2000', 'charlie', 'robert',\n",
       "       'thomas', 'hockey', 'ranger', 'daniel', 'starwars', 'klaster',\n",
       "       '112233', 'george', 'asshole', 'computer', 'michelle', 'jessica',\n",
       "       'pepper', '1111', 'zxcvbn', '555555', '11111111', '131313',\n",
       "       'freedom', '777777', 'pass', 'fuck', 'maggie', '159753', 'aaaaaa',\n",
       "       'ginger', 'princess', 'joshua', 'cheese', 'amanda', 'summer',\n",
       "       'love', 'ashley', '6969', 'nicole', 'chelsea', 'biteme', 'matthew',\n",
       "       'access', 'yankees', '987654321', 'dallas', 'austin', 'thunder',\n",
       "       'taylor', 'matrix', 'william', 'corvette', 'hello', 'martin',\n",
       "       'heather', 'secret', 'fucker', 'merlin', 'diamond', '1234qwer',\n",
       "       'gfhjkm', 'hammer', 'silver', '222222', '88888888', 'anthony',\n",
       "       'justin', 'test', 'bailey', 'q1w2e3r4t5', 'patrick', 'internet',\n",
       "       'scooter', 'orange', '11111', 'golfer', 'cookie', 'richard',\n",
       "       'samantha', 'bigdog', 'guitar', 'jackson', 'whatever', 'mickey',\n",
       "       'chicken', 'sparky', 'snoopy', 'maverick', 'phoenix', 'camaro',\n",
       "       'sexy', 'peanut', 'morgan', 'welcome', 'falcon', 'cowboy',\n",
       "       'ferrari', 'samsung', 'andrea', 'smokey', 'steelers', 'joseph',\n",
       "       'mercedes', 'dakota', 'arsenal', 'eagles', 'melissa', 'boomer',\n",
       "       'booboo', 'spider', 'nascar', 'monster', 'tigers', 'yellow',\n",
       "       'xxxxxx', '123123123', 'gateway', 'marina', 'diablo', 'bulldog',\n",
       "       'qwer1234', 'compaq', 'purple', 'hardcore', 'banana', 'junior',\n",
       "       'hannah', '123654', 'porsche', 'lakers', 'iceman', 'money',\n",
       "       'cowboys', '987654', 'london', 'tennis', '999999', 'ncc1701',\n",
       "       'coffee', 'scooby', '0000', 'miller', 'boston', 'q1w2e3r4',\n",
       "       'fuckoff', 'brandon', 'yamaha', 'chester', 'mother', 'forever',\n",
       "       'johnny', 'edward', '333333', 'oliver', 'redsox', 'player',\n",
       "       'nikita', 'knight', 'fender', 'barney', 'midnight', 'please',\n",
       "       'brandy', 'chicago', 'badboy', 'iwantu', 'slayer', 'rangers',\n",
       "       'charles', 'angel', 'flower', 'bigdaddy', 'rabbit', 'wizard',\n",
       "       'bigdick', 'jasper', 'enter', 'rachel', 'chris', 'steven', 'winner',\n",
       "       'adidas', 'victoria', 'natasha', '1q2w3e4r', 'jasmine', 'winter',\n",
       "       'prince', 'panties', 'marine', 'ghbdtn', 'fishing', 'cocacola',\n",
       "       'casper', 'james', '232323', 'raiders', '888888', 'marlboro',\n",
       "       'gandalf', 'asdfasdf', 'crystal', '87654321', '12344321', 'sexsex',\n",
       "       'golden', 'blowme', 'bigtits', '8675309', 'panther', 'lauren',\n",
       "       'angela', 'bitch', 'spanky', 'thx1138', 'angels', 'madison',\n",
       "       'winston', 'shannon', 'mike', 'toyota', 'blowjob', 'jordan23',\n",
       "       'canada', 'sophie', 'Password', 'apples', 'dick', 'tiger', 'razz',\n",
       "       '123abc', 'pokemon', 'qazxsw', '55555', 'qwaszx', 'muffin',\n",
       "       'johnson', 'murphy', 'cooper', 'jonathan', 'liverpoo', 'david',\n",
       "       'danielle', '159357', 'jackie', '1990', '123456a', '789456',\n",
       "       'turtle', 'horny', 'abcd1234', 'scorpion', 'qazwsxedc', '101010',\n",
       "       'butter', 'carlos', 'password1', 'dennis', 'slipknot', 'qwerty123',\n",
       "       'booger', 'asdf', '1991', 'black', 'startrek', '12341234',\n",
       "       'cameron', 'newyork', 'rainbow', 'nathan', 'john', '1992', 'rocket',\n",
       "       'viking', 'redskins', 'butthead', 'asdfghjkl', '1212', 'sierra',\n",
       "       'peaches', 'gemini', 'doctor', 'wilson', 'sandra', 'helpme',\n",
       "       'qwertyui', 'victor', 'florida', 'dolphin', 'pookie', 'captain',\n",
       "       'tucker', 'blue', 'liverpool', 'theman', 'bandit', 'dolphins',\n",
       "       'maddog', 'packers', 'jaguar', 'lovers', 'nicholas', 'united',\n",
       "       'tiffany', 'maxwell', 'zzzzzz', 'nirvana', 'jeremy', 'suckit',\n",
       "       'stupid', 'porn', 'monica', 'elephant', 'giants', 'jackass',\n",
       "       'hotdog', 'rosebud', 'success', 'debbie', 'mountain', '444444',\n",
       "       'xxxxxxxx', 'warrior', '1q2w3e4r5t', 'q1w2e3', '123456q', 'albert',\n",
       "       'metallic', 'lucky', 'azerty', '7777', 'shithead', 'alex',\n",
       "       'bond007', 'alexis', '1111111', 'samson', '5150', 'willie',\n",
       "       'scorpio', 'bonnie', 'gators', 'benjamin', 'voodoo', 'driver',\n",
       "       'dexter', '2112', 'jason', 'calvin', 'freddy', '212121', 'creative',\n",
       "       '12345a', 'sydney', 'rush2112', '1989', 'asdfghjk', 'red123',\n",
       "       'bubba', '4815162342', 'passw0rd', 'trouble', 'gunner', 'happy',\n",
       "       'fucking', 'gordon', 'legend', 'jessie', 'stella', 'qwert',\n",
       "       'eminem', 'arthur', 'apple', 'nissan', 'bullshit', 'bear',\n",
       "       'america', '1qazxsw2', 'nothing', 'parker', '4444', 'rebecca',\n",
       "       'qweqwe', 'garfield', '01012011', 'beavis', '69696969', 'jack',\n",
       "       'asdasd', 'december', '2222', '102030', '252525', '11223344',\n",
       "       'magic', 'apollo', 'skippy', '315475', 'girls', 'kitten', 'golf',\n",
       "       'copper', 'braves', 'shelby', 'godzilla', 'beaver', 'fred',\n",
       "       'tomcat', 'august', 'buddy', 'airborne', '1993', '1988', 'lifehack',\n",
       "       'qqqqqq', 'brooklyn', 'animal', 'platinum', 'phantom', 'online',\n",
       "       'xavier', 'darkness', 'blink182', 'power', 'fish', 'green',\n",
       "       '789456123', 'voyager', 'police', 'travis', '12qwaszx', 'heaven',\n",
       "       'snowball', 'lover', 'abcdef', '00000', 'pakistan', '007007',\n",
       "       'walter', 'playboy', 'blazer', 'cricket', 'sniper', 'hooters',\n",
       "       'donkey', 'willow', 'loveme', 'saturn', 'therock', 'redwings',\n",
       "       'bigboy', 'pumpkin', 'trinity', 'williams', 'tits', 'nintendo',\n",
       "       'digital', 'destiny', 'topgun', 'runner', 'marvin', 'guinness',\n",
       "       'chance', 'bubbles', 'testing', 'fire', 'november', 'minecraft',\n",
       "       'asdf1234', 'lasvegas', 'sergey', 'broncos', 'cartman', 'private',\n",
       "       'celtic', 'birdie', 'little', 'cassie', 'babygirl', 'donald',\n",
       "       'beatles', '1313', 'dickhead', 'family', '12121212', 'school',\n",
       "       'louise', 'gabriel', 'eclipse', 'fluffy', '147258369', 'lol123',\n",
       "       'explorer', 'beer', 'nelson', 'flyers', 'spencer', 'scott',\n",
       "       'lovely', 'gibson', 'doggie', 'cherry', 'andrey', 'snickers',\n",
       "       'buffalo', 'pantera', 'metallica', 'member', 'carter', 'qwertyu',\n",
       "       'peter', 'alexande', 'steve', 'bronco', 'paradise', 'goober',\n",
       "       '5555', 'samuel', 'montana', 'mexico', 'dreams', 'michigan', 'cock',\n",
       "       'carolina', 'yankee', 'friends', 'magnum', 'surfer', 'poopoo',\n",
       "       'maximus', 'genius', 'cool', 'vampire', 'lacrosse', 'asd123',\n",
       "       'aaaa', 'christin', 'kimberly', 'speedy', 'sharon', 'carmen',\n",
       "       '111222', 'kristina', 'sammy', 'racing', 'ou812', 'sabrina',\n",
       "       'horses', '0987654321', 'qwerty1', 'pimpin', 'baby', 'stalker',\n",
       "       'enigma', '147147', 'star', 'poohbear', 'boobies', '147258',\n",
       "       'simple', 'bollocks', '12345q', 'marcus', 'brian', '1987',\n",
       "       'qweasdzxc', 'drowssap', 'hahaha', 'caroline', 'barbara', 'dave',\n",
       "       'viper', 'drummer', 'action', 'einstein', 'bitches', 'genesis',\n",
       "       'hello1', 'scotty', 'friend', 'forest', '010203', 'hotrod',\n",
       "       'google', 'vanessa', 'spitfire', 'badger', 'maryjane', 'friday',\n",
       "       'alaska', '1232323q', 'tester', 'jester', 'jake', 'champion',\n",
       "       'billy', '147852', 'rock', 'hawaii', 'badass', 'chevy', '420420',\n",
       "       'walker', 'stephen', 'eagle1', 'bill', '1986', 'october', 'gregory',\n",
       "       'svetlana', 'pamela', '1984', 'music', 'shorty', 'westside',\n",
       "       'stanley', 'diesel', 'courtney', '242424', 'kevin', 'porno',\n",
       "       'hitman', 'boobs', 'mark', '12345qwert', 'reddog', 'frank',\n",
       "       'qwe123', 'popcorn', 'patricia', 'aaaaaaaa', '1969', 'teresa',\n",
       "       'mozart', 'buddha', 'anderson', 'paul', 'melanie', 'abcdefg',\n",
       "       'security', 'lucky1', 'lizard', 'denise', '3333', 'a12345',\n",
       "       '123789', 'ruslan', 'stargate', 'simpsons', 'scarface', 'eagle',\n",
       "       '123456789a', 'thumper', 'olivia', 'naruto', '1234554321',\n",
       "       'general', 'cherokee', 'a123456', 'vincent', 'Usuckballz1',\n",
       "       'spooky', 'qweasd', 'cumshot', 'free', 'frankie', 'douglas',\n",
       "       'death', '1980', 'loveyou', 'kitty', 'kelly', 'veronica', 'suzuki',\n",
       "       'semperfi', 'penguin', 'mercury', 'liberty', 'spirit', 'scotland',\n",
       "       'natalie', 'marley', 'vikings', 'system', 'sucker', 'king',\n",
       "       'allison', 'marshall', '1979', '098765', 'qwerty12', 'hummer',\n",
       "       'adrian', '1985', 'vfhbyf', 'sandman', 'rocky', 'leslie', 'antonio',\n",
       "       '98765432', '4321', 'softball', 'passion', 'mnbvcxz', 'bastard',\n",
       "       'passport', 'horney', 'rascal', 'howard', 'franklin', 'bigred',\n",
       "       'assman', 'alexander', 'homer', 'redrum', 'jupiter', 'claudia',\n",
       "       '55555555', '141414', 'zaq12wsx', 'shit', 'patches', 'nigger',\n",
       "       'cunt', 'raider', 'infinity', 'andre', '54321', 'galore', 'college',\n",
       "       'russia', 'kawasaki', 'bishop', '77777777', 'vladimir', 'money1',\n",
       "       'freeuser', 'wildcats', 'francis', 'disney', 'budlight', 'brittany',\n",
       "       '1994', '00000000', 'sweet', 'oksana', 'honda', 'domino',\n",
       "       'bulldogs', 'brutus', 'swordfis', 'norman', 'monday', 'jimmy',\n",
       "       'ironman', 'ford', 'fantasy', '9999', '7654321', 'PASSWORD',\n",
       "       'hentai', 'duncan', 'cougar', '1977', 'jeffrey', 'house', 'dancer',\n",
       "       'brooke', 'timothy', 'super', 'marines', 'justice', 'digger',\n",
       "       'connor', 'patriots', 'karina', '202020', 'molly', 'everton',\n",
       "       'tinker', 'alicia', 'rasdzv3', 'poop', 'pearljam', 'stinky',\n",
       "       'naughty', 'colorado', '123123a', 'water', 'test123', 'ncc1701d',\n",
       "       'motorola', 'ireland', 'asdfg', 'slut', 'matt', 'houston', 'boogie',\n",
       "       'zombie', 'accord', 'vision', 'bradley', 'reggie', 'kermit',\n",
       "       'froggy', 'ducati', 'avalon', '6666', '9379992', 'sarah', 'saints',\n",
       "       'logitech', 'chopper', '852456', 'simpson', 'madonna', 'juventus',\n",
       "       'claire', '159951', 'zachary', 'yfnfif', 'wolverin', 'warcraft',\n",
       "       'hello123', 'extreme', 'penis', 'peekaboo', 'fireman', 'eugene',\n",
       "       'brenda', '123654789', 'russell', 'panthers', 'georgia', 'smith',\n",
       "       'skyline', 'jesus', 'elizabet', 'spiderma', 'smooth', 'pirate',\n",
       "       'empire', 'bullet', '8888', 'virginia', 'valentin', 'psycho',\n",
       "       'predator', 'arizona', '134679', 'mitchell', 'alyssa', 'vegeta',\n",
       "       'titanic', 'christ', 'goblue', 'fylhtq', 'wolf', 'mmmmmm', 'kirill',\n",
       "       'indian', 'hiphop', 'baxter', 'awesome', 'people', 'danger',\n",
       "       'roland', 'mookie', '741852963', '1111111111', 'dreamer', 'bambam',\n",
       "       'arnold', '1981', 'skipper', 'serega', 'rolltide', 'elvis',\n",
       "       'changeme', 'simon', '1q2w3e', 'lovelove', 'fktrcfylh', 'denver',\n",
       "       'tommy', 'mine', 'loverboy', 'hobbes', 'happy1', 'alison',\n",
       "       'nemesis', 'chevelle', 'cardinal', 'burton', 'wanker', 'picard',\n",
       "       '151515', 'tweety', 'michael1', '147852369', '12312', 'xxxx',\n",
       "       'windows', 'turkey', '456789', '1974', 'vfrcbv', 'sublime', '1975',\n",
       "       'galina', 'bobby', 'newport', 'manutd', 'daddy', 'american',\n",
       "       'alexandr', '1966', 'victory', 'rooster', 'qqq111', 'madmax',\n",
       "       'electric', 'bigcock', 'a1b2c3', 'wolfpack', 'spring', 'phpbb',\n",
       "       'lalala', 'suckme', 'spiderman', 'eric', 'darkside', 'classic',\n",
       "       'raptor', '123456789q', 'hendrix', '1982', 'wombat', 'avatar',\n",
       "       'alpha', 'zxc123', 'crazy', 'hard', 'england', 'brazil', '1978',\n",
       "       '01011980', 'wildcat', 'polina', 'freepass'], dtype=object)"
      ]
     },
     "execution_count": 10,
     "metadata": {},
     "output_type": "execute_result"
    }
   ],
   "source": [
    "BB.top1000passwords"
   ]
  },
  {
   "cell_type": "code",
   "execution_count": 11,
   "metadata": {
    "collapsed": false
   },
   "outputs": [
    {
     "name": "stdout",
     "output_type": "stream",
     "text": [
      "The vector of 1000 most popular passwords.\n",
      "   \n",
      "The numpy array of 1000 most commonly used passwords.\n",
      "It is sorted by the frequency of password's usage. First passwords in the numpy array are the most frequently used.\n"
     ]
    }
   ],
   "source": [
    "BB.top1000passwords_description()"
   ]
  },
  {
   "cell_type": "code",
   "execution_count": 12,
   "metadata": {
    "collapsed": false
   },
   "outputs": [
    {
     "data": {
      "text/plain": [
       "'Password or login is incorrect.'"
      ]
     },
     "execution_count": 12,
     "metadata": {},
     "output_type": "execute_result"
    }
   ],
   "source": [
    "BB.proton(action = \"login\", login = \"johnins\", password = \"qwerty\")"
   ]
  },
  {
   "cell_type": "code",
   "execution_count": 13,
   "metadata": {
    "collapsed": false
   },
   "outputs": [
    {
     "name": "stdout",
     "output_type": "stream",
     "text": [
      "Well done! This is the right password!\n",
      "Bit used John Insecure's account in order to log into the Proton server.\n",
      "It turns out that John has access to server logs.\n",
      "Now, Bit wants to check from which workstation Pietraszko is frequently logging into the Proton server. Bit hopes that there will be some useful data.  \n",
      "\n",
      "Logs are in the `logs` dataset. \n",
      "Consecutive columns contain information such as: who, when and from which computer logged into Proton.\n",
      "\n",
      "Problem 3: Check from which server Pietraszko logs into the Proton server most often.\n",
      "\n",
      "Use `proton(action = \"server\", host = \"XYZ\")` command in order to learn more about what can be found on the XYZ server.\n",
      "The biggest chance to find something interesting is to find a server from which Pietraszko logs in the most often.\n",
      "\n",
      "\n"
     ]
    },
    {
     "data": {
      "text/plain": [
       "'Success! User is logged in!'"
      ]
     },
     "execution_count": 13,
     "metadata": {},
     "output_type": "execute_result"
    }
   ],
   "source": [
    "BB.proton(action = \"login\", login = \"johnins\", password = \"q1w2e3r4t5\")"
   ]
  },
  {
   "cell_type": "code",
   "execution_count": 14,
   "metadata": {
    "collapsed": false
   },
   "outputs": [
    {
     "name": "stdout",
     "output_type": "stream",
     "text": [
      "Well done! This is the right password!\n",
      "Bit used John Insecure's account in order to log into the Proton server.\n",
      "It turns out that John has access to server logs.\n",
      "Now, Bit wants to check from which workstation Pietraszko is frequently logging into the Proton server. Bit hopes that there will be some useful data.  \n",
      "\n",
      "Logs are in the `logs` dataset. \n",
      "Consecutive columns contain information such as: who, when and from which computer logged into Proton.\n",
      "\n",
      "Problem 3: Check from which server Pietraszko logs into the Proton server most often.\n",
      "\n",
      "Use `proton(action = \"server\", host = \"XYZ\")` command in order to learn more about what can be found on the XYZ server.\n",
      "The biggest chance to find something interesting is to find a server from which Pietraszko logs in the most often.\n",
      "\n",
      "\n",
      "\n",
      "HINT:\n",
      "In order to get to know from which server Pietraszko is logging the most often one may:\n",
      "1. Choose only Pietraszko's logs,\n",
      "2. Count the number of Pietraszko's logs into separate servers,\n",
      "3. Sort servers' list by the frequency of logs.\n",
      "\n",
      "Use `employees` database in order to check what Pietraszko's login is.\n",
      "\n"
     ]
    },
    {
     "data": {
      "text/plain": [
       "'Success! User is logged in!'"
      ]
     },
     "execution_count": 14,
     "metadata": {},
     "output_type": "execute_result"
    }
   ],
   "source": [
    "BB.proton(action = \"login\", login = \"johnins\", password = \"q1w2e3r4t5\", hint = True)"
   ]
  },
  {
   "cell_type": "code",
   "execution_count": 15,
   "metadata": {
    "collapsed": false,
    "scrolled": true
   },
   "outputs": [
    {
     "data": {
      "text/html": [
       "<div>\n",
       "<table border=\"1\" class=\"dataframe\">\n",
       "  <thead>\n",
       "    <tr style=\"text-align: right;\">\n",
       "      <th></th>\n",
       "      <th>login</th>\n",
       "      <th>host</th>\n",
       "      <th>data</th>\n",
       "    </tr>\n",
       "  </thead>\n",
       "  <tbody>\n",
       "    <tr>\n",
       "      <th>1</th>\n",
       "      <td>r.spencer</td>\n",
       "      <td>193.0.96.13.15</td>\n",
       "      <td>2014-09-01 03:01:12</td>\n",
       "    </tr>\n",
       "    <tr>\n",
       "      <th>2</th>\n",
       "      <td>isaac.arnold</td>\n",
       "      <td>193.0.96.13.9</td>\n",
       "      <td>2014-09-01 03:01:51</td>\n",
       "    </tr>\n",
       "    <tr>\n",
       "      <th>3</th>\n",
       "      <td>warren.dickerson</td>\n",
       "      <td>194.29.178.32</td>\n",
       "      <td>2014-09-01 03:08:08</td>\n",
       "    </tr>\n",
       "    <tr>\n",
       "      <th>4</th>\n",
       "      <td>c.lopez</td>\n",
       "      <td>194.29.178.4</td>\n",
       "      <td>2014-09-01 03:09:02</td>\n",
       "    </tr>\n",
       "    <tr>\n",
       "      <th>5</th>\n",
       "      <td>l.russell</td>\n",
       "      <td>194.29.178.162</td>\n",
       "      <td>2014-09-01 03:22:22</td>\n",
       "    </tr>\n",
       "  </tbody>\n",
       "</table>\n",
       "</div>"
      ],
      "text/plain": [
       "              login            host                 data\n",
       "1         r.spencer  193.0.96.13.15  2014-09-01 03:01:12\n",
       "2      isaac.arnold   193.0.96.13.9  2014-09-01 03:01:51\n",
       "3  warren.dickerson   194.29.178.32  2014-09-01 03:08:08\n",
       "4           c.lopez    194.29.178.4  2014-09-01 03:09:02\n",
       "5         l.russell  194.29.178.162  2014-09-01 03:22:22"
      ]
     },
     "execution_count": 15,
     "metadata": {},
     "output_type": "execute_result"
    }
   ],
   "source": [
    "BB.logs.head()"
   ]
  },
  {
   "cell_type": "code",
   "execution_count": 16,
   "metadata": {
    "collapsed": false
   },
   "outputs": [
    {
     "name": "stdout",
     "output_type": "stream",
     "text": [
      "The history of logs into the Proton server\n",
      "   \n",
      "The pandas DataFrame describing the history of logs: who, from where and when logged into the Proton server.\n",
      "The subsequent columns in this pandas DataFrame describe:\n",
      "   - login - The login of the user which logs into the Proton server. \n",
      "   - host - The IP address of the computer, from which the log into the Proton server was detected.\n",
      "   - date - The date of log into the Proton server. Rows are sorted by this column.\n"
     ]
    }
   ],
   "source": [
    "BB.logs_description()"
   ]
  },
  {
   "cell_type": "code",
   "execution_count": 17,
   "metadata": {
    "collapsed": false
   },
   "outputs": [
    {
     "name": "stdout",
     "output_type": "stream",
     "text": [
      "Bit spent some time to infiltrate this workstation. \n",
      "But there is nothing interesting here.\n",
      "Find the workstation which Pietraszko is using most often to log into the Proton server.\n",
      "\n"
     ]
    }
   ],
   "source": [
    "BB.proton(action = \"server\", host = \"XYZ\")"
   ]
  },
  {
   "cell_type": "code",
   "execution_count": 18,
   "metadata": {
    "collapsed": false
   },
   "outputs": [
    {
     "name": "stdout",
     "output_type": "stream",
     "text": [
      "It turns out that Pietraszko often uses the public workstation 194.29.178.16.\n",
      "What a carelessness.\n",
      "\n",
      "Bit infiltrated this workstation easily. He downloaded `bash_history` file which contains a list of all commands that were entered into the server's console.\n",
      "The chances are that some time ago Pietraszko typed a password into the console by mistake thinking that he was logging into the Proton server.\n",
      "\n",
      "Problem 4: Find the Pietraszko's password.\n",
      "\n",
      "In the `bash_history` dataset you will find all commands and parameters which have ever been entered.\n",
      "Try to extract from this dataset only commands (only strings before space) and check whether one of them looks like a password.\n",
      "Once you find the password, use it to login into the proton server.\n",
      "\n"
     ]
    }
   ],
   "source": [
    "BB.proton(action = \"server\", host = \"194.29.178.16\")"
   ]
  },
  {
   "cell_type": "code",
   "execution_count": 19,
   "metadata": {
    "collapsed": false
   },
   "outputs": [
    {
     "name": "stdout",
     "output_type": "stream",
     "text": [
      "It turns out that Pietraszko often uses the public workstation 194.29.178.16.\n",
      "What a carelessness.\n",
      "\n",
      "Bit infiltrated this workstation easily. He downloaded `bash_history` file which contains a list of all commands that were entered into the server's console.\n",
      "The chances are that some time ago Pietraszko typed a password into the console by mistake thinking that he was logging into the Proton server.\n",
      "\n",
      "Problem 4: Find the Pietraszko's password.\n",
      "\n",
      "In the `bash_history` dataset you will find all commands and parameters which have ever been entered.\n",
      "Try to extract from this dataset only commands (only strings before space) and check whether one of them looks like a password.\n",
      "Once you find the password, use it to login into the proton server.\n",
      "\n",
      "\n",
      "HINT:\n",
      "Commands and parameters are separated by a space.\n",
      "After having all commands extracted you should check how often each command is used.\n",
      "Perhaps it will turn out that one of typed in commands look like a password?\n",
      "\n",
      "If you see something which looks like a password, you shall use `proton(action = \"login\", login = \"XYZ\", password = \"ABC\")` command to log into the Proton server with Pietraszko credentials.\n",
      "\n"
     ]
    }
   ],
   "source": [
    "BB.proton(action = \"server\", host = \"194.29.178.16\", hint = True)"
   ]
  },
  {
   "cell_type": "code",
   "execution_count": 20,
   "metadata": {
    "collapsed": false
   },
   "outputs": [
    {
     "data": {
      "text/plain": [
       "array(['mcedit /var/log/lighttpd/*', 'pwd', 'vim /var/log/mysql.*', ...,\n",
       "       'vi /var/log/kern.log', 'mcedit deploymentclient.conf', 'ls /mnt'], dtype=object)"
      ]
     },
     "execution_count": 20,
     "metadata": {},
     "output_type": "execute_result"
    }
   ],
   "source": [
    "BB.bash_history"
   ]
  },
  {
   "cell_type": "code",
   "execution_count": 21,
   "metadata": {
    "collapsed": false
   },
   "outputs": [
    {
     "name": "stdout",
     "output_type": "stream",
     "text": [
      "The history of recently executed commands.\n",
      "   \n",
      "The numpy array of recently executed commands.\n",
      "Each element of the numpy array consists of command's name and command's arguments separated with a space.\n"
     ]
    }
   ],
   "source": [
    "BB.bash_history_description()"
   ]
  },
  {
   "cell_type": "code",
   "execution_count": 22,
   "metadata": {
    "collapsed": false
   },
   "outputs": [
    {
     "name": "stdout",
     "output_type": "stream",
     "text": [
      "\n",
      "If action = 'login' argument is set then one should also set 'password = .' argument.\n",
      "\n"
     ]
    }
   ],
   "source": [
    "BB.proton(action = \"login\", login = \"slap\")"
   ]
  },
  {
   "cell_type": "code",
   "execution_count": 24,
   "metadata": {
    "collapsed": false
   },
   "outputs": [
    {
     "data": {
      "text/plain": [
       "'Password or login is incorrect.'"
      ]
     },
     "execution_count": 24,
     "metadata": {},
     "output_type": "execute_result"
    }
   ],
   "source": [
    "BB.proton(action = \"login\", login = \"slap\", password = \"q1w2e3r4t5\")"
   ]
  },
  {
   "cell_type": "code",
   "execution_count": 25,
   "metadata": {
    "collapsed": false
   },
   "outputs": [
    {
     "name": "stdout",
     "output_type": "stream",
     "text": [
      "Congratulations!\n",
      "\n",
      "You have cracked Pietraszko's password!\n",
      "Secret plans of his lab are now in your hands.\n",
      "What is in this mysterious lab?\n",
      "You may read about it in the `Pietraszko's cave` story which is available at http://biecek.pl/BetaBit/Warsaw\n",
      "\n",
      "Next adventure of Beta and Bit will be available soon.\n",
      "\n"
     ]
    },
    {
     "data": {
      "text/plain": [
       "'Success! User is logged in!'"
      ]
     },
     "execution_count": 25,
     "metadata": {},
     "output_type": "execute_result"
    }
   ],
   "source": [
    "BB.proton(action = \"login\", login = \"slap\", password = \"DHbb7QXppuHnaXGN\")"
   ]
  },
  {
   "cell_type": "code",
   "execution_count": null,
   "metadata": {
    "collapsed": true
   },
   "outputs": [],
   "source": []
  }
 ],
 "metadata": {
  "kernelspec": {
   "display_name": "Python 3",
   "language": "python",
   "name": "python3"
  },
  "language_info": {
   "codemirror_mode": {
    "name": "ipython",
    "version": 3
   },
   "file_extension": ".py",
   "mimetype": "text/x-python",
   "name": "python",
   "nbconvert_exporter": "python",
   "pygments_lexer": "ipython3",
   "version": "3.5.1"
  }
 },
 "nbformat": 4,
 "nbformat_minor": 0
}
